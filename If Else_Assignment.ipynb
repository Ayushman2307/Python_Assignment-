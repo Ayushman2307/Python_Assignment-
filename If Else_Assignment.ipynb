{
 "cells": [
  {
   "cell_type": "markdown",
   "id": "f957f415-b0a8-4eee-8f8e-9f1486d52a95",
   "metadata": {},
   "source": [
    "Q1. Write a program to calculate the electricity bill using only if statement? (accept number of unit from user) according to the following criteria:\n",
    "\n",
    "    Unit                       Price \n",
    "\n",
    "First 100 units             No charge\n",
    "Next 100 units              Rs 5 per unit\n",
    "After 200 units             Rs 10 per unit"
   ]
  },
  {
   "cell_type": "code",
   "execution_count": 2,
   "id": "cc940bea-9372-468c-9fab-9791975f6c04",
   "metadata": {},
   "outputs": [
    {
     "name": "stdin",
     "output_type": "stream",
     "text": [
      "Enter Units Consumed: 500\n"
     ]
    },
    {
     "name": "stdout",
     "output_type": "stream",
     "text": [
      "Your total bill: 3500\n"
     ]
    }
   ],
   "source": [
    "units= int(input(\"Enter Units Consumed:\"))\n",
    "bill = 0\n",
    "if units <=100:\n",
    "    bill=0\n",
    "elif units <=200:\n",
    "    bill = (units - 100) *5\n",
    "else:\n",
    "    bill = (100*5) + ((units-200)*10)\n",
    "\n",
    "print(\"Your total bill:\",bill)"
   ]
  },
  {
   "cell_type": "markdown",
   "id": "732017a6-4287-454c-a56b-2c167a0a8462",
   "metadata": {},
   "source": [
    "Q2. Write a program to accept percentage from the user and display the grade according to the following criteria:\n",
    "\n",
    "Marks                  Grade\n",
    "> 90                    A\n",
    "> 80 and <= 90          B\n",
    ">= 60 and <= 80         C\n",
    "below 60                D"
   ]
  },
  {
   "cell_type": "code",
   "execution_count": 10,
   "id": "4c200ad4-cfd5-40c2-80a1-f24ae814281b",
   "metadata": {},
   "outputs": [
    {
     "name": "stdin",
     "output_type": "stream",
     "text": [
      "Enter Marks Obtained: 66\n"
     ]
    },
    {
     "name": "stdout",
     "output_type": "stream",
     "text": [
      "Marks Obtained: 66\n",
      "Grade: C\n"
     ]
    }
   ],
   "source": [
    "marks= int(input(\"Enter Marks Obtained:\"))\n",
    "\n",
    "if marks >90:\n",
    "    grade =(\"A\")\n",
    "elif marks >80 and marks <=90:\n",
    "    grade=(\"B\")\n",
    "elif marks >=60 and marks <=80:\n",
    "    grade =(\"C\")\n",
    "elif marks >=40 and marks <60:\n",
    "    grade = (\"D\")\n",
    "else:\n",
    "    grade=(\"Fail\")\n",
    "\n",
    "print(\"Marks Obtained:\",marks)\n",
    "print(\"Grade:\",grade)"
   ]
  },
  {
   "cell_type": "markdown",
   "id": "2615984d-7ad1-4877-9f98-1fd478ae32ae",
   "metadata": {},
   "source": [
    "Q3. Accept the age of 4 people and display the youngest one?"
   ]
  },
  {
   "cell_type": "code",
   "execution_count": 13,
   "id": "5a59e1ed-6da5-4aaa-946e-b38e740da9cc",
   "metadata": {},
   "outputs": [
    {
     "name": "stdin",
     "output_type": "stream",
     "text": [
      "Enter the age of first person: 90\n",
      "Enter the age of second person: 88\n",
      "Enter the age of third person: 83\n",
      "Enter the age of fourth person: 90\n"
     ]
    },
    {
     "name": "stdout",
     "output_type": "stream",
     "text": [
      "The youngest age is: 83\n"
     ]
    }
   ],
   "source": [
    "age1 = int(input(\"Enter the age of first person:\"))\n",
    "age2 = int(input(\"Enter the age of second person:\"))\n",
    "age3 = int(input(\"Enter the age of third person:\"))\n",
    "age4 = int(input(\"Enter the age of fourth person:\"))\n",
    "\n",
    "if age1 <= age2 and age1 <= age3 and age1 <= age4:\n",
    "    youngest_age = age1\n",
    "\n",
    "elif age2 <= age1 and age2 <= age3 and age2 <= age4:\n",
    "    youngest_age = age2\n",
    "\n",
    "elif age3 <= age1 and age3 <= age2 and age3 <= age4:\n",
    "    youngest_age = age3\n",
    "\n",
    "else:\n",
    "    youngest_age = age4\n",
    "\n",
    "print(\"The youngest age is:\", youngest_age)"
   ]
  },
  {
   "cell_type": "markdown",
   "id": "ba88a36b-8891-47da-93d4-cd412549bce5",
   "metadata": {},
   "source": [
    "Q4. A company decided to give bonus to employee according to following criteria:\n",
    "\n",
    "Time period of Service          Bonus\n",
    "\n",
    "More than 10 years              10%\n",
    "\n",
    ">=6 and <=10                    8%\n",
    "\n",
    "Less than 6 years               5%\n",
    "\n",
    "Ask user for their salary and years of service and print the net bonus amount?"
   ]
  },
  {
   "cell_type": "code",
   "execution_count": 17,
   "id": "3e1a536d-3fa0-4c7a-9e32-d193f3264c90",
   "metadata": {},
   "outputs": [
    {
     "name": "stdin",
     "output_type": "stream",
     "text": [
      "Enter employee name: shanu\n",
      "Enter employee current salary: 25000\n",
      "Enter your employee period: 5\n"
     ]
    },
    {
     "name": "stdout",
     "output_type": "stream",
     "text": [
      "Employee Name: shanu\n",
      "Employee Salary: 25000\n",
      "Employee service period:, 5\n",
      "Employee Bonus: 1250.0\n"
     ]
    }
   ],
   "source": [
    "name = input(\"Enter employee name:\")\n",
    "salary = int(input(\"Enter employee current salary:\"))\n",
    "service_period = int(input(\"Enter your employee period:\"))\n",
    "bonus=0\n",
    "\n",
    "if service_period >10:\n",
    "    bonus = (salary *10) / 100\n",
    "elif service_period >=6 and service_period<=10:\n",
    "    bonus = (salary*8) / 100\n",
    "else:\n",
    "    bonus = (salary*5) / 100\n",
    "\n",
    "print(\"Employee Name:\",name)\n",
    "print(\"Employee Salary:\",salary)\n",
    "print(\"Employee service period:,\",service_period)\n",
    "print(\"Employee Bonus:\",bonus)"
   ]
  },
  {
   "cell_type": "markdown",
   "id": "ba75340e-2d7d-47f5-acc7-071478c54a9f",
   "metadata": {},
   "source": [
    "Q5. Accept three numbers from the user and display the second largest number?"
   ]
  },
  {
   "cell_type": "code",
   "execution_count": null,
   "id": "8f164345-632b-49a8-816c-a5b88fe5ac4e",
   "metadata": {},
   "outputs": [],
   "source": []
  },
  {
   "cell_type": "markdown",
   "id": "a5e674d6-c2bc-44ac-9742-0295c636e8e8",
   "metadata": {},
   "source": [
    "Q6. Accept the marked price from the user and calculate the Net amount as (Marked Price – Discount) to pay according to following criteria:\n",
    "\n",
    "Marked Price          Discount\n",
    ">10000                20%\n",
    ">7000 and <=10000     15%\n",
    "<=7000                10%"
   ]
  },
  {
   "cell_type": "code",
   "execution_count": 27,
   "id": "12271d16-ad09-4953-ba2e-a45c82ad554a",
   "metadata": {},
   "outputs": [
    {
     "name": "stdin",
     "output_type": "stream",
     "text": [
      "Enter the marked amount: 6000\n"
     ]
    },
    {
     "name": "stdout",
     "output_type": "stream",
     "text": [
      "Marked Price: 6000\n",
      "Discount Amount: 600.0\n"
     ]
    }
   ],
   "source": [
    "marked_price = int(input(\"Enter the marked amount:\"))\n",
    "Discount = 0\n",
    "\n",
    "if marked_price >10000:\n",
    "    Discount = (marked_price *20) / 100\n",
    "elif marked_price >7000 and marked_price <=10000:\n",
    "    Discount = (marked_price * 15) / 100\n",
    "else:\n",
    "    Discount= (marked_price *10) / 100\n",
    "\n",
    "print(\"Marked Price:\",marked_price)\n",
    "print(\"Discount Amount:\",Discount)"
   ]
  },
  {
   "cell_type": "markdown",
   "id": "2392550e-fed7-44fb-802d-b7e1a777b23e",
   "metadata": {},
   "source": [
    "Q7. Accept the marks of English, Math and Science, Social Studies Subject and display the stream allotted according to following:\n",
    "\n",
    "\n",
    "All Subjects more than 80 marks    — Science Stream\n",
    "\n",
    "English >80 and Math, Science above 50     — Commerce Stream\n",
    "\n",
    "English > 80 and social studies > 80       — Humanities"
   ]
  },
  {
   "cell_type": "code",
   "execution_count": 29,
   "id": "9e11d94d-c019-4e98-802e-b242c1ba343c",
   "metadata": {},
   "outputs": [
    {
     "name": "stdin",
     "output_type": "stream",
     "text": [
      "Enter student name: 90\n",
      "Enter marks in English: 88\n",
      "Enter marks in Maths: 99\n",
      "Enter marks in Science: 99\n",
      "Enter marks in Social Studies: 90\n"
     ]
    },
    {
     "name": "stdout",
     "output_type": "stream",
     "text": [
      "Stream: Science Stream\n"
     ]
    }
   ],
   "source": [
    "student_name=input(\"Enter student name:\")\n",
    "english = int(input(\"Enter marks in English:\"))\n",
    "maths = int(input(\"Enter marks in Maths:\"))\n",
    "science=int(input(\"Enter marks in Science:\"))\n",
    "social_studies=int(input(\"Enter marks in Social Studies:\"))\n",
    "\n",
    "if english >80 and maths >80 and science >80 and social_studies >80:\n",
    "    stream = \"Science Stream\"\n",
    "elif english >80 and maths >50 and science >80:\n",
    "    stream = \"Commerce Stream\"\n",
    "elif english >80 and social_studies >80:\n",
    "    stream = \"Humanities\"\n",
    "else:\n",
    "    stream = \"No stream match the criteria\"\n",
    "\n",
    "print(\"Stream:\",stream)"
   ]
  },
  {
   "cell_type": "markdown",
   "id": "eb1ac2c5-112d-4e55-9b70-5d1697cb700c",
   "metadata": {},
   "source": [
    "Q8. Write a program to display \"Hello\" if a number entered by user is a multiple of five, otherwise print \"Bye\"?"
   ]
  },
  {
   "cell_type": "code",
   "execution_count": 32,
   "id": "e2c15323-57e4-4fd7-b44e-159e0bad2678",
   "metadata": {},
   "outputs": [
    {
     "name": "stdin",
     "output_type": "stream",
     "text": [
      "Enter the number: 25\n"
     ]
    },
    {
     "name": "stdout",
     "output_type": "stream",
     "text": [
      "Hello\n"
     ]
    }
   ],
   "source": [
    "number= int(input(\"Enter the number:\"))\n",
    "\n",
    "if (number %5)==0:\n",
    "    print(\"Hello\")\n",
    "\n",
    "else:\n",
    "    print(\"Bye\")"
   ]
  },
  {
   "cell_type": "markdown",
   "id": "065e168a-b67f-43ab-93ec-31227bb7e2b9",
   "metadata": {},
   "source": [
    "Q9. Write a program to check whether the last digit of a number (entered by user) is divisible by 3 or not?"
   ]
  },
  {
   "cell_type": "code",
   "execution_count": 13,
   "id": "64d4d200-8277-41d5-8061-f8f1b3cf4385",
   "metadata": {},
   "outputs": [
    {
     "name": "stdin",
     "output_type": "stream",
     "text": [
      "Enter the number: 1983\n"
     ]
    },
    {
     "name": "stdout",
     "output_type": "stream",
     "text": [
      "Last digit of 1983 is divisible by 3.\n"
     ]
    }
   ],
   "source": [
    "number = int(input(\"Enter the number:\"))\n",
    "\n",
    "last_digit = number % 3\n",
    "if (last_digit %3)==0:\n",
    "    print(f\"Last digit of {number} is divisible by 3.\")\n",
    "\n",
    "else:\n",
    "    print(f\"Last digit of {number} is not divisible by 3.\")\n",
    "\n"
   ]
  },
  {
   "cell_type": "markdown",
   "id": "eddd5945-2bab-4b24-b092-abc621505c0d",
   "metadata": {},
   "source": [
    "Q10. Write a program to check whether a number entered\n",
    "is three-digit number or not?"
   ]
  },
  {
   "cell_type": "code",
   "execution_count": 28,
   "id": "6c18f201-8bdd-427c-94d8-728d3017bb84",
   "metadata": {},
   "outputs": [
    {
     "name": "stdin",
     "output_type": "stream",
     "text": [
      "Enter the number: 9999\n"
     ]
    },
    {
     "name": "stdout",
     "output_type": "stream",
     "text": [
      "Number 9999 is not a three digit number.\n"
     ]
    }
   ],
   "source": [
    "number = int(input(\"Enter the number:\"))\n",
    "\n",
    "if  100<= (number)  <=999:\n",
    "    print(f\"Number {number} is a three digit number.\")\n",
    "\n",
    "else:\n",
    "    print(f\"Number {number} is not a three digit number.\")\n",
    "    "
   ]
  },
  {
   "cell_type": "code",
   "execution_count": null,
   "id": "bbf40a29-952e-4cec-a73c-06b2e8a54412",
   "metadata": {},
   "outputs": [],
   "source": []
  }
 ],
 "metadata": {
  "kernelspec": {
   "display_name": "Python 3 (ipykernel)",
   "language": "python",
   "name": "python3"
  },
  "language_info": {
   "codemirror_mode": {
    "name": "ipython",
    "version": 3
   },
   "file_extension": ".py",
   "mimetype": "text/x-python",
   "name": "python",
   "nbconvert_exporter": "python",
   "pygments_lexer": "ipython3",
   "version": "3.11.7"
  }
 },
 "nbformat": 4,
 "nbformat_minor": 5
}
