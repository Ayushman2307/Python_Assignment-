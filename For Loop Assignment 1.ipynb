{
 "cells": [
  {
   "cell_type": "markdown",
   "id": "c68a6815-797b-4d73-80cb-c0e62408b3d6",
   "metadata": {},
   "source": [
    "Task1:\n",
    "You have a nested list as below:\n",
    "indian_employees = [[\"Raj\", \"Patel\"], [\"Priya\", \"Sharma\"],[\"Amit\", \"Kumar\"],[\"Neha\", \"Singh\"]]\n",
    "your have to create an email address for each employee."
   ]
  },
  {
   "cell_type": "code",
   "execution_count": 39,
   "id": "b627e1de-1eb9-4295-a3af-d9b846f63d21",
   "metadata": {},
   "outputs": [
    {
     "name": "stdout",
     "output_type": "stream",
     "text": [
      "Email adress of Employee are: RajPatel@gmail.com\n",
      "Email adress of Employee are: PriyaSharma@gmail.com\n",
      "Email adress of Employee are: AmitKumar@gmail.com\n",
      "Email adress of Employee are: NehaSingh@gmail.com\n"
     ]
    }
   ],
   "source": [
    "indian_employees = [[\"Raj\", \"Patel\"], [\"Priya\", \"Sharma\"], [\"Amit\", \"Kumar\"], [\"Neha\", \"Singh\"]]\n",
    "\n",
    "for employee in indian_employees:\n",
    "    first_name = employee[0]\n",
    "    last_name = employee[1]\n",
    "    \n",
    "    # Constructing the email address\n",
    "    Email = (f\"Email adress of Employee are: {first_name}{last_name}@gmail.com\")\n",
    "\n",
    "    print(Email)"
   ]
  },
  {
   "cell_type": "code",
   "execution_count": null,
   "id": "7a501b6c-192a-4a09-a526-0942c8bde036",
   "metadata": {},
   "outputs": [],
   "source": []
  }
 ],
 "metadata": {
  "kernelspec": {
   "display_name": "Python 3 (ipykernel)",
   "language": "python",
   "name": "python3"
  },
  "language_info": {
   "codemirror_mode": {
    "name": "ipython",
    "version": 3
   },
   "file_extension": ".py",
   "mimetype": "text/x-python",
   "name": "python",
   "nbconvert_exporter": "python",
   "pygments_lexer": "ipython3",
   "version": "3.11.7"
  }
 },
 "nbformat": 4,
 "nbformat_minor": 5
}
