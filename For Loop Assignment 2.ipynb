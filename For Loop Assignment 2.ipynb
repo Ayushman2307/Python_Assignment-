{
 "cells": [
  {
   "cell_type": "markdown",
   "id": "5f887135-c48c-4abd-9c38-9328d78e077b",
   "metadata": {},
   "source": [
    "1: Write a Python program to print all the numbers from 1 to 10 using a for loop."
   ]
  },
  {
   "cell_type": "code",
   "execution_count": 1,
   "id": "3272049a-3f5e-4b4d-ba02-b5d1d4489f37",
   "metadata": {},
   "outputs": [
    {
     "name": "stdout",
     "output_type": "stream",
     "text": [
      "1\n",
      "2\n",
      "3\n",
      "4\n",
      "5\n",
      "6\n",
      "7\n",
      "8\n",
      "9\n",
      "10\n"
     ]
    }
   ],
   "source": [
    "for i in range (1,11):\n",
    "    print(i)"
   ]
  },
  {
   "cell_type": "markdown",
   "id": "b9b8fbac-2ab1-4d3c-815e-53ce3004ec1e",
   "metadata": {},
   "source": [
    "2: Write a Python program to find the sum of all numbers from 1 to 100 using a for loop."
   ]
  },
  {
   "cell_type": "code",
   "execution_count": 2,
   "id": "bcf9a55a-542d-468b-84a7-1809189d9fa3",
   "metadata": {},
   "outputs": [
    {
     "name": "stdout",
     "output_type": "stream",
     "text": [
      "5050\n"
     ]
    }
   ],
   "source": [
    "sum=0\n",
    "for i in range(1,101):\n",
    "    sum+=i\n",
    "print(sum)"
   ]
  },
  {
   "cell_type": "markdown",
   "id": "8ff8f8bc-48d5-4a60-8825-6f301161a037",
   "metadata": {},
   "source": [
    "3: Write a Python program to print the multiplication table of a given number using a for loop."
   ]
  },
  {
   "cell_type": "code",
   "execution_count": 4,
   "id": "455ecbca-1552-495f-aeb5-cc929dbe21d1",
   "metadata": {},
   "outputs": [
    {
     "name": "stdin",
     "output_type": "stream",
     "text": [
      "Enter the number: 18\n"
     ]
    },
    {
     "name": "stdout",
     "output_type": "stream",
     "text": [
      "18 X 1 = 18\n",
      "18 X 2 = 36\n",
      "18 X 3 = 54\n",
      "18 X 4 = 72\n",
      "18 X 5 = 90\n",
      "18 X 6 = 108\n",
      "18 X 7 = 126\n",
      "18 X 8 = 144\n",
      "18 X 9 = 162\n",
      "18 X 10 = 180\n"
     ]
    }
   ],
   "source": [
    "n =int(input(\"Enter the number:\"))\n",
    "for i in range(1,11):\n",
    "    print(f\"{n} X {i} = {n*i}\")\n",
    "    i+=1\n",
    "    "
   ]
  },
  {
   "cell_type": "markdown",
   "id": "43d034a4-89c4-4e8f-b83a-621d5686dcec",
   "metadata": {},
   "source": [
    "Question 4: Write a Python program to count the number of even and odd numbers from a\n",
    "series of numbers using a for loop."
   ]
  },
  {
   "cell_type": "code",
   "execution_count": 24,
   "id": "a4f739e3-8192-4660-86f1-f506f41ab5a1",
   "metadata": {},
   "outputs": [
    {
     "name": "stdout",
     "output_type": "stream",
     "text": [
      "Even Numbers Count [2, 4, 6, 8, 10]\n",
      "Odd Numbers Count [1, 3, 5, 7, 9]\n"
     ]
    }
   ],
   "source": [
    "list1=[1,2,3,4,5,6,7,8,9,10]\n",
    "\n",
    "even_list=[]\n",
    "odd_list=[]\n",
    "\n",
    "for number in list1:\n",
    "    if number %2 ==0:\n",
    "        even_list.append(number)\n",
    "\n",
    "    else:\n",
    "        odd_list.append(number)\n",
    "\n",
    "print(\"Even Numbers Count\",even_list)\n",
    "print(\"Odd Numbers Count\",odd_list)\n",
    "    "
   ]
  },
  {
   "cell_type": "markdown",
   "id": "c8cfb147-87ff-4796-a08b-5377175d3d24",
   "metadata": {},
   "source": [
    "Question 5: Write a Python program to find the factorial of a number using a for loop."
   ]
  },
  {
   "cell_type": "code",
   "execution_count": 1,
   "id": "7c079cfb-124f-4550-95bd-a1ee92a2218b",
   "metadata": {},
   "outputs": [
    {
     "name": "stdin",
     "output_type": "stream",
     "text": [
      "Enter Number: 8\n"
     ]
    },
    {
     "name": "stdout",
     "output_type": "stream",
     "text": [
      "1\n",
      "2\n",
      "3\n",
      "4\n",
      "5\n",
      "6\n",
      "7\n",
      "8\n",
      "The Factorial of 8 is: 40320\n"
     ]
    }
   ],
   "source": [
    "n= int(input(\"Enter Number:\"))\n",
    "factorial=1\n",
    "for i in range(1,n+1):\n",
    "    print(i)\n",
    "    factorial = factorial*i\n",
    "print(f\"The Factorial of {n} is: {factorial}\")"
   ]
  },
  {
   "cell_type": "markdown",
   "id": "22a1d114-194c-4907-960c-f48ee4206944",
   "metadata": {},
   "source": [
    "Question 6: Write a Python program to print the Fibonacci sequence up to a specified number\n",
    "using a for loop."
   ]
  },
  {
   "cell_type": "code",
   "execution_count": 17,
   "id": "2c711b0b-7ced-40d0-aa8f-7898869d9c51",
   "metadata": {},
   "outputs": [
    {
     "name": "stdin",
     "output_type": "stream",
     "text": [
      "Enter the number:  9\n"
     ]
    },
    {
     "name": "stdout",
     "output_type": "stream",
     "text": [
      "Fibonacci sequence up to 9 :\n",
      "0 1 1 2 3 5 8 13 21 "
     ]
    }
   ],
   "source": [
    "number = int(input(\"Enter the number: \"))\n",
    "\n",
    "a , b = 0 , 1\n",
    "\n",
    "print(\"Fibonacci sequence up to\", number, \":\")\n",
    "for i in range(number):\n",
    "    print(a, end=\" \")\n",
    "    a, b = b, a + b"
   ]
  },
  {
   "cell_type": "markdown",
   "id": "8764391b-86e2-497b-b7d6-6e9389b11ffd",
   "metadata": {},
   "source": [
    "Question 7: Write a Python program to check if a given number is prime or not using a for loop."
   ]
  },
  {
   "cell_type": "code",
   "execution_count": 95,
   "id": "d0048138-6a83-48c9-a0b0-35cfb73a2b5d",
   "metadata": {},
   "outputs": [
    {
     "name": "stdin",
     "output_type": "stream",
     "text": [
      "Enter the number :  11\n"
     ]
    },
    {
     "name": "stdout",
     "output_type": "stream",
     "text": [
      "11 is a prime number.\n"
     ]
    }
   ],
   "source": [
    "number = int(input(\"Enter the number : \"))\n",
    "\n",
    "is_prime = True\n",
    "\n",
    "if number > 1:\n",
    "    divisor = 2\n",
    "    while divisor * divisor <= number:\n",
    "        if number % divisor == 0:\n",
    "            is_prime = False\n",
    "            break\n",
    "        divisor += 1\n",
    "        \n",
    "else:\n",
    "    is_prime = False\n",
    "\n",
    "if is_prime:\n",
    "    print(number ,\"is a prime number.\")\n",
    "else:\n",
    "    print(number ,\"is not a prime number.\")"
   ]
  },
  {
   "cell_type": "markdown",
   "id": "07fc69bd-c5b9-4761-95c9-eaf0fa7c4979",
   "metadata": {},
   "source": [
    "Question 8: Write a Python program to find the largest element in a list using a for loop."
   ]
  },
  {
   "cell_type": "code",
   "execution_count": 141,
   "id": "a88d7724-a77c-4cb4-9053-612e709429ff",
   "metadata": {},
   "outputs": [
    {
     "name": "stdout",
     "output_type": "stream",
     "text": [
      "The largest element in the list is: 100\n"
     ]
    }
   ],
   "source": [
    "def find_largest_element(lst):\n",
    "    if not lst:\n",
    "        return None\n",
    "\n",
    "    largest = lst[0]\n",
    "\n",
    "    for num in lst:\n",
    "        if num > largest:\n",
    "            largest = num  \n",
    "    \n",
    "    return largest\n",
    "\n",
    "# Example usage:\n",
    "numbers = [45, 67, 12, 89, 34, 100, 23]\n",
    "largest_number = find_largest_element(numbers)\n",
    "print(\"The largest element in the list is:\", largest_number)\n"
   ]
  },
  {
   "cell_type": "markdown",
   "id": "ad184646-efc5-4ad9-86d0-c4a31f75f509",
   "metadata": {},
   "source": [
    "Question 9: Write a Python program to reverse a given string using a for loop."
   ]
  },
  {
   "cell_type": "code",
   "execution_count": 102,
   "id": "83ea29bb-28bf-4c5f-ba7a-3206117dca75",
   "metadata": {},
   "outputs": [
    {
     "name": "stdout",
     "output_type": "stream",
     "text": [
      "nohtyP\n"
     ]
    }
   ],
   "source": [
    "string= \"Python\"\n",
    "\n",
    "reverseString = \"\"\n",
    "for char in string:\n",
    "    reverseString = char+ reverseString\n",
    "\n",
    "print(reverseString)"
   ]
  },
  {
   "cell_type": "markdown",
   "id": "83723351-5f0f-4882-a678-4ea5ed861fc9",
   "metadata": {},
   "source": [
    "Question 10: Write a Python program to find the common elements between two lists using a\n",
    "for loop."
   ]
  },
  {
   "cell_type": "code",
   "execution_count": 143,
   "id": "eecb3063-b2e8-4498-a560-3d9584913e70",
   "metadata": {},
   "outputs": [
    {
     "name": "stdout",
     "output_type": "stream",
     "text": [
      "Common elements between list1 and list2: [3, 4, 5]\n"
     ]
    }
   ],
   "source": [
    "def find_common_elements(list1, list2):\n",
    "    common_elements = []\n",
    "\n",
    "    for element in list1:\n",
    "        if element in list2 and element not in common_elements:\n",
    "            common_elements.append(element)\n",
    "\n",
    "    return common_elements\n",
    "\n",
    "# Example usage:\n",
    "list1 = [1, 2, 3, 4, 5]\n",
    "list2 = [3, 4, 5, 6, 7]\n",
    "common_elements = find_common_elements(list1, list2)\n",
    "print(\"Common elements between list1 and list2:\", common_elements)"
   ]
  },
  {
   "cell_type": "code",
   "execution_count": null,
   "id": "0986be4b-91e7-48be-801b-0f91a10c4ec3",
   "metadata": {},
   "outputs": [],
   "source": []
  }
 ],
 "metadata": {
  "kernelspec": {
   "display_name": "Python 3 (ipykernel)",
   "language": "python",
   "name": "python3"
  },
  "language_info": {
   "codemirror_mode": {
    "name": "ipython",
    "version": 3
   },
   "file_extension": ".py",
   "mimetype": "text/x-python",
   "name": "python",
   "nbconvert_exporter": "python",
   "pygments_lexer": "ipython3",
   "version": "3.11.7"
  }
 },
 "nbformat": 4,
 "nbformat_minor": 5
}
